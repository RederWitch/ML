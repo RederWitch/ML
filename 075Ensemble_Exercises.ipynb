{
 "cells": [
  {
   "cell_type": "markdown",
   "metadata": {},
   "source": [
    "# Ensemble methods. Exercises\n",
    "\n",
    "\n",
    "In this section we have only two exercise:\n",
    "\n",
    "1. Find the best three classifier in the stacking method using the classifiers from scikit-learn package.\n",
    "\n",
    "2. Build arcing arc-x4 method. "
   ]
  },
  {
   "cell_type": "code",
   "execution_count": 74,
   "metadata": {},
   "outputs": [],
   "source": [
    "%store -r data_set\n",
    "%store -r labels\n",
    "%store -r test_data_set\n",
    "%store -r test_labels\n",
    "%store -r unique_labels"
   ]
  },
  {
   "cell_type": "markdown",
   "metadata": {},
   "source": [
    "## Exercise 1: Find the best three classifier in the stacking method\n",
    "\n",
    "Please use the following classifiers:\n",
    "\n",
    "* Linear regression,\n",
    "* Nearest Neighbors,\n",
    "* Linear SVM,\n",
    "* Decision Tree,\n",
    "* Naive Bayes,\n",
    "* QDA."
   ]
  },
  {
   "cell_type": "code",
   "execution_count": 75,
   "metadata": {},
   "outputs": [],
   "source": [
    "import numpy as np\n",
    "from sklearn.metrics import accuracy_score\n",
    "\n",
    "from sklearn.linear_model import LinearRegression\n",
    "from sklearn.neighbors import KNeighborsClassifier\n",
    "from sklearn.svm import SVC\n",
    "from sklearn.tree import DecisionTreeClassifier\n",
    "from sklearn.naive_bayes import GaussianNB\n",
    "from sklearn.discriminant_analysis import QuadraticDiscriminantAnalysis\n",
    "from itertools import combinations"
   ]
  },
  {
   "cell_type": "code",
   "execution_count": 79,
   "metadata": {},
   "outputs": [],
   "source": [
    "def build_classifiers():\n",
    "    linear_regression = LinearRegression()\n",
    "    linear_regression.fit(data_set, labels)\n",
    "    nearest_neighbors = KNeighborsClassifier()\n",
    "    nearest_neighbors.fit(data_set, labels)\n",
    "    linear_svc = SVC()\n",
    "    linear_svc.fit(data_set, labels)\n",
    "    decision_tree = DecisionTreeClassifier()\n",
    "    decision_tree.fit(data_set, labels)\n",
    "    naive_bayes = GaussianNB()\n",
    "    naive_bayes.fit(data_set, labels)\n",
    "    qda = QuadraticDiscriminantAnalysis()\n",
    "    qda.fit(data_set, labels) \n",
    "    return linear_regression, nearest_neighbors, linear_svc, decision_tree, naive_bayes, qda  # and here"
   ]
  },
  {
   "cell_type": "code",
   "execution_count": 80,
   "metadata": {},
   "outputs": [],
   "source": [
    "def build_stacked_classifier(classifiers):\n",
    "    output = []\n",
    "    for classifier in classifiers:\n",
    "        output.append(classifier.predict(data_set))\n",
    "    output = np.array(output).reshape((130,3))\n",
    "    \n",
    "    # stacked classifier part:\n",
    "    stacked_classifier = DecisionTreeClassifier()\n",
    "    stacked_classifier.fit(output.reshape((130,3)), labels.reshape((130,)))\n",
    "    test_set = []\n",
    "    for classifier in classifiers:\n",
    "        test_set.append(classifier.predict(test_data_set))\n",
    "    test_set = np.array(test_set).reshape((len(test_set[0]),3))\n",
    "    predicted = stacked_classifier.predict(test_set)\n",
    "    return predicted"
   ]
  },
  {
   "cell_type": "code",
   "execution_count": 82,
   "metadata": {},
   "outputs": [
    {
     "name": "stdout",
     "output_type": "stream",
     "text": [
      "(LinearRegression(), KNeighborsClassifier(), SVC()) 0.1\n",
      "(LinearRegression(), KNeighborsClassifier(), DecisionTreeClassifier()) 0.75\n",
      "(LinearRegression(), KNeighborsClassifier(), GaussianNB()) 0.7\n",
      "(LinearRegression(), KNeighborsClassifier(), QuadraticDiscriminantAnalysis()) 0.75\n",
      "(LinearRegression(), SVC(), DecisionTreeClassifier()) 0.65\n",
      "(LinearRegression(), SVC(), GaussianNB()) 0.6\n",
      "(LinearRegression(), SVC(), QuadraticDiscriminantAnalysis()) 0.6\n",
      "(LinearRegression(), DecisionTreeClassifier(), GaussianNB()) 0.05\n",
      "(LinearRegression(), DecisionTreeClassifier(), QuadraticDiscriminantAnalysis()) 0.75\n",
      "(LinearRegression(), GaussianNB(), QuadraticDiscriminantAnalysis()) 0.6\n",
      "(KNeighborsClassifier(), SVC(), DecisionTreeClassifier()) 0.9\n",
      "(KNeighborsClassifier(), SVC(), GaussianNB()) 0.85\n",
      "(KNeighborsClassifier(), SVC(), QuadraticDiscriminantAnalysis()) 0.85\n",
      "(KNeighborsClassifier(), DecisionTreeClassifier(), GaussianNB()) 0.0\n",
      "(KNeighborsClassifier(), DecisionTreeClassifier(), QuadraticDiscriminantAnalysis()) 0.95\n",
      "(KNeighborsClassifier(), GaussianNB(), QuadraticDiscriminantAnalysis()) 0.85\n",
      "(SVC(), DecisionTreeClassifier(), GaussianNB()) 0.05\n",
      "(SVC(), DecisionTreeClassifier(), QuadraticDiscriminantAnalysis()) 0.85\n",
      "(SVC(), GaussianNB(), QuadraticDiscriminantAnalysis()) 0.75\n",
      "(DecisionTreeClassifier(), GaussianNB(), QuadraticDiscriminantAnalysis()) 0.9\n",
      "/nBst accuracy = 0.95 for (KNeighborsClassifier(), DecisionTreeClassifier(), QuadraticDiscriminantAnalysis())\n"
     ]
    }
   ],
   "source": [
    "classifiers = build_classifiers()\n",
    "combination = combinations(classifiers, 3)\n",
    "best_classifier = None\n",
    "best_accuracy = 0\n",
    "for classifiers in combination:\n",
    "    predicted = build_stacked_classifier(classifiers)\n",
    "    accuracy = accuracy_score(test_labels, predicted)\n",
    "    if accuracy > best_accuracy:\n",
    "        best_classifier = classifiers\n",
    "        best_accuracy = accuracy\n",
    "    print(classifiers, accuracy)\n",
    "print(\"/nBestaccuracy =\", best_accuracy, \"for\", best_classifier)"
   ]
  },
  {
   "cell_type": "markdown",
   "metadata": {},
   "source": [
    "## Exercise 2: \n",
    "\n",
    "Use the boosting method and change the code to fullfilt the following requirements:\n",
    "\n",
    "* the weights should be calculated as:\n",
    "$w_{n}^{(t+1)}=\\frac{1+ I(y_{n}\\neq h_{t}(x_{n})}{\\sum_{i=1}^{N}1+I(y_{n}\\neq h_{t}(x_{n})}$,\n",
    "* the prediction is done with a voting method."
   ]
  },
  {
   "cell_type": "code",
   "execution_count": 67,
   "metadata": {},
   "outputs": [],
   "source": [
    "import numpy as np\n",
    "from sklearn.tree import DecisionTreeClassifier\n",
    "\n",
    "# prepare data set\n",
    "\n",
    "def generate_data(sample_number, feature_number, label_number):\n",
    "    data_set = np.random.random_sample((sample_number, feature_number))\n",
    "    labels = np.random.choice(label_number, sample_number)\n",
    "    return data_set, labels\n",
    "\n",
    "labels = 2\n",
    "dimension = 2\n",
    "test_set_size = 1000\n",
    "train_set_size = 5000\n",
    "train_set, train_labels = generate_data(train_set_size, dimension, labels)\n",
    "test_set, test_labels = generate_data(test_set_size, dimension, labels)\n",
    "\n",
    "# init weights\n",
    "number_of_iterations = 10\n",
    "weights = np.ones((test_set_size,)) / test_set_size\n",
    "\n",
    "\n",
    "def train_model(classifier, weights):\n",
    "    return classifier.fit(X=test_set, y=test_labels, sample_weight=weights)\n",
    "\n",
    "def calculate_error(model):\n",
    "    predicted = model.predict(test_set)\n",
    "    I=calculate_accuracy_vector(predicted, test_labels)\n",
    "    Z=np.sum(I)\n",
    "    return (1+Z)/1.0\n"
   ]
  },
  {
   "cell_type": "markdown",
   "metadata": {},
   "source": [
    "Fill the two functions below:"
   ]
  },
  {
   "cell_type": "code",
   "execution_count": 68,
   "metadata": {},
   "outputs": [],
   "source": [
    "def calculate_accuracy_vector(predicted, labels):\n",
    "    result = []\n",
    "    for i in range(len(predicted)):\n",
    "        if predicted[i] == labels[i]:\n",
    "            result.append(0)\n",
    "        else:\n",
    "            result.append(1)\n",
    "    return result\n",
    "\n",
    "def set_new_weights(model):\n",
    "    I_1 = np.add(1, calculate_accuracy_vector(model.predict(test_set), test_labels)) \n",
    "    return I_1/np.sum(I_1)\n",
    "     "
   ]
  },
  {
   "cell_type": "markdown",
   "metadata": {},
   "source": [
    "Train the classifier with the code below:"
   ]
  },
  {
   "cell_type": "code",
   "execution_count": 69,
   "metadata": {},
   "outputs": [
    {
     "name": "stdout",
     "output_type": "stream",
     "text": [
      "[0.00066622 0.00133245 0.00066622 0.00066622 0.00133245 0.00133245\n",
      " 0.00133245 0.00133245 0.00066622 0.00066622 0.00066622 0.00133245\n",
      " 0.00133245 0.00066622 0.00066622 0.00133245 0.00133245 0.00133245\n",
      " 0.00133245 0.00066622 0.00066622 0.00133245 0.00133245 0.00066622\n",
      " 0.00133245 0.00133245 0.00133245 0.00066622 0.00066622 0.00133245\n",
      " 0.00066622 0.00133245 0.00133245 0.00066622 0.00066622 0.00133245\n",
      " 0.00066622 0.00066622 0.00133245 0.00066622 0.00133245 0.00133245\n",
      " 0.00066622 0.00066622 0.00133245 0.00133245 0.00133245 0.00066622\n",
      " 0.00066622 0.00066622 0.00133245 0.00133245 0.00133245 0.00133245\n",
      " 0.00066622 0.00133245 0.00133245 0.00066622 0.00133245 0.00066622\n",
      " 0.00133245 0.00133245 0.00066622 0.00133245 0.00066622 0.00133245\n",
      " 0.00133245 0.00133245 0.00133245 0.00066622 0.00133245 0.00133245\n",
      " 0.00133245 0.00133245 0.00133245 0.00133245 0.00133245 0.00133245\n",
      " 0.00133245 0.00066622 0.00133245 0.00066622 0.00133245 0.00066622\n",
      " 0.00066622 0.00133245 0.00066622 0.00133245 0.00066622 0.00133245\n",
      " 0.00066622 0.00066622 0.00066622 0.00066622 0.00133245 0.00133245\n",
      " 0.00133245 0.00133245 0.00133245 0.00066622 0.00133245 0.00133245\n",
      " 0.00066622 0.00066622 0.00066622 0.00133245 0.00066622 0.00066622\n",
      " 0.00066622 0.00066622 0.00133245 0.00133245 0.00133245 0.00066622\n",
      " 0.00066622 0.00066622 0.00133245 0.00066622 0.00133245 0.00066622\n",
      " 0.00133245 0.00066622 0.00133245 0.00133245 0.00066622 0.00066622\n",
      " 0.00133245 0.00066622 0.00066622 0.00133245 0.00133245 0.00133245\n",
      " 0.00133245 0.00133245 0.00133245 0.00133245 0.00133245 0.00066622\n",
      " 0.00066622 0.00133245 0.00066622 0.00133245 0.00066622 0.00133245\n",
      " 0.00133245 0.00133245 0.00066622 0.00133245 0.00066622 0.00133245\n",
      " 0.00133245 0.00133245 0.00066622 0.00133245 0.00066622 0.00066622\n",
      " 0.00133245 0.00133245 0.00133245 0.00066622 0.00133245 0.00066622\n",
      " 0.00133245 0.00133245 0.00133245 0.00133245 0.00066622 0.00066622\n",
      " 0.00066622 0.00133245 0.00133245 0.00133245 0.00066622 0.00133245\n",
      " 0.00133245 0.00133245 0.00133245 0.00066622 0.00066622 0.00133245\n",
      " 0.00066622 0.00133245 0.00066622 0.00066622 0.00066622 0.00133245\n",
      " 0.00066622 0.00066622 0.00066622 0.00133245 0.00066622 0.00133245\n",
      " 0.00133245 0.00133245 0.00133245 0.00066622 0.00133245 0.00066622\n",
      " 0.00066622 0.00066622 0.00066622 0.00133245 0.00133245 0.00133245\n",
      " 0.00133245 0.00133245 0.00066622 0.00066622 0.00066622 0.00066622\n",
      " 0.00133245 0.00066622 0.00133245 0.00066622 0.00066622 0.00133245\n",
      " 0.00066622 0.00133245 0.00066622 0.00133245 0.00133245 0.00066622\n",
      " 0.00133245 0.00066622 0.00066622 0.00066622 0.00066622 0.00133245\n",
      " 0.00133245 0.00066622 0.00133245 0.00133245 0.00066622 0.00066622\n",
      " 0.00133245 0.00133245 0.00133245 0.00133245 0.00133245 0.00133245\n",
      " 0.00066622 0.00066622 0.00133245 0.00133245 0.00066622 0.00133245\n",
      " 0.00133245 0.00066622 0.00133245 0.00066622 0.00133245 0.00066622\n",
      " 0.00066622 0.00066622 0.00066622 0.00066622 0.00133245 0.00133245\n",
      " 0.00066622 0.00066622 0.00066622 0.00133245 0.00133245 0.00133245\n",
      " 0.00133245 0.00066622 0.00133245 0.00066622 0.00066622 0.00066622\n",
      " 0.00133245 0.00066622 0.00066622 0.00066622 0.00066622 0.00133245\n",
      " 0.00133245 0.00066622 0.00066622 0.00066622 0.00133245 0.00066622\n",
      " 0.00133245 0.00066622 0.00066622 0.00133245 0.00066622 0.00133245\n",
      " 0.00066622 0.00133245 0.00066622 0.00133245 0.00133245 0.00133245\n",
      " 0.00133245 0.00133245 0.00133245 0.00133245 0.00133245 0.00066622\n",
      " 0.00133245 0.00066622 0.00066622 0.00066622 0.00133245 0.00133245\n",
      " 0.00133245 0.00066622 0.00133245 0.00066622 0.00066622 0.00133245\n",
      " 0.00066622 0.00133245 0.00066622 0.00133245 0.00066622 0.00133245\n",
      " 0.00066622 0.00066622 0.00066622 0.00133245 0.00133245 0.00133245\n",
      " 0.00066622 0.00133245 0.00066622 0.00066622 0.00133245 0.00066622\n",
      " 0.00133245 0.00133245 0.00133245 0.00066622 0.00066622 0.00066622\n",
      " 0.00066622 0.00133245 0.00066622 0.00133245 0.00133245 0.00133245\n",
      " 0.00066622 0.00066622 0.00133245 0.00133245 0.00133245 0.00133245\n",
      " 0.00066622 0.00066622 0.00066622 0.00133245 0.00133245 0.00066622\n",
      " 0.00133245 0.00133245 0.00066622 0.00133245 0.00133245 0.00133245\n",
      " 0.00133245 0.00066622 0.00133245 0.00133245 0.00066622 0.00133245\n",
      " 0.00066622 0.00133245 0.00066622 0.00133245 0.00133245 0.00066622\n",
      " 0.00133245 0.00066622 0.00066622 0.00066622 0.00066622 0.00066622\n",
      " 0.00133245 0.00066622 0.00066622 0.00133245 0.00133245 0.00066622\n",
      " 0.00133245 0.00133245 0.00066622 0.00066622 0.00133245 0.00066622\n",
      " 0.00066622 0.00133245 0.00066622 0.00066622 0.00133245 0.00133245\n",
      " 0.00066622 0.00133245 0.00066622 0.00133245 0.00133245 0.00133245\n",
      " 0.00133245 0.00066622 0.00133245 0.00066622 0.00133245 0.00066622\n",
      " 0.00133245 0.00133245 0.00066622 0.00133245 0.00133245 0.00133245\n",
      " 0.00066622 0.00133245 0.00066622 0.00066622 0.00066622 0.00066622\n",
      " 0.00066622 0.00133245 0.00066622 0.00133245 0.00066622 0.00133245\n",
      " 0.00133245 0.00133245 0.00133245 0.00066622 0.00133245 0.00066622\n",
      " 0.00066622 0.00133245 0.00066622 0.00066622 0.00066622 0.00066622\n",
      " 0.00066622 0.00133245 0.00133245 0.00066622 0.00066622 0.00133245\n",
      " 0.00066622 0.00066622 0.00066622 0.00133245 0.00133245 0.00133245\n",
      " 0.00133245 0.00066622 0.00066622 0.00133245 0.00133245 0.00133245\n",
      " 0.00066622 0.00066622 0.00133245 0.00133245 0.00133245 0.00133245\n",
      " 0.00133245 0.00133245 0.00066622 0.00066622 0.00133245 0.00066622\n",
      " 0.00066622 0.00133245 0.00066622 0.00133245 0.00066622 0.00133245\n",
      " 0.00066622 0.00066622 0.00133245 0.00133245 0.00133245 0.00066622\n",
      " 0.00066622 0.00066622 0.00133245 0.00066622 0.00133245 0.00133245\n",
      " 0.00133245 0.00066622 0.00133245 0.00133245 0.00066622 0.00133245\n",
      " 0.00066622 0.00066622 0.00066622 0.00066622 0.00133245 0.00066622\n",
      " 0.00066622 0.00133245 0.00066622 0.00133245 0.00133245 0.00133245\n",
      " 0.00133245 0.00066622 0.00066622 0.00066622 0.00066622 0.00133245\n",
      " 0.00133245 0.00066622 0.00066622 0.00066622 0.00066622 0.00066622\n",
      " 0.00066622 0.00133245 0.00066622 0.00066622 0.00066622 0.00133245\n",
      " 0.00066622 0.00133245 0.00133245 0.00066622 0.00133245 0.00066622\n",
      " 0.00133245 0.00066622 0.00066622 0.00133245 0.00133245 0.00066622\n",
      " 0.00066622 0.00066622 0.00133245 0.00066622 0.00133245 0.00133245\n",
      " 0.00066622 0.00066622 0.00066622 0.00066622 0.00066622 0.00066622\n",
      " 0.00133245 0.00133245 0.00066622 0.00066622 0.00066622 0.00066622\n",
      " 0.00133245 0.00133245 0.00066622 0.00133245 0.00133245 0.00133245\n",
      " 0.00066622 0.00133245 0.00066622 0.00066622 0.00133245 0.00133245\n",
      " 0.00066622 0.00133245 0.00133245 0.00066622 0.00133245 0.00066622\n",
      " 0.00066622 0.00066622 0.00066622 0.00133245 0.00133245 0.00066622\n",
      " 0.00066622 0.00066622 0.00066622 0.00133245 0.00066622 0.00133245\n",
      " 0.00133245 0.00133245 0.00066622 0.00066622 0.00066622 0.00066622\n",
      " 0.00066622 0.00133245 0.00133245 0.00066622 0.00066622 0.00133245\n",
      " 0.00066622 0.00066622 0.00066622 0.00066622 0.00133245 0.00133245\n",
      " 0.00066622 0.00066622 0.00066622 0.00133245 0.00066622 0.00133245\n",
      " 0.00066622 0.00066622 0.00066622 0.00133245 0.00133245 0.00133245\n",
      " 0.00066622 0.00133245 0.00066622 0.00133245 0.00066622 0.00066622\n",
      " 0.00066622 0.00066622 0.00133245 0.00066622 0.00066622 0.00066622\n",
      " 0.00066622 0.00066622 0.00066622 0.00133245 0.00066622 0.00133245\n",
      " 0.00066622 0.00066622 0.00133245 0.00133245 0.00133245 0.00066622\n",
      " 0.00066622 0.00133245 0.00066622 0.00133245 0.00066622 0.00066622\n",
      " 0.00133245 0.00133245 0.00066622 0.00066622 0.00133245 0.00066622\n",
      " 0.00066622 0.00133245 0.00133245 0.00133245 0.00133245 0.00066622\n",
      " 0.00133245 0.00066622 0.00066622 0.00133245 0.00133245 0.00133245\n",
      " 0.00066622 0.00066622 0.00066622 0.00133245 0.00066622 0.00133245\n",
      " 0.00066622 0.00133245 0.00066622 0.00133245 0.00133245 0.00133245\n",
      " 0.00066622 0.00066622 0.00066622 0.00066622 0.00066622 0.00066622\n",
      " 0.00133245 0.00133245 0.00133245 0.00066622 0.00133245 0.00066622\n",
      " 0.00133245 0.00133245 0.00066622 0.00133245 0.00133245 0.00133245\n",
      " 0.00066622 0.00066622 0.00066622 0.00133245 0.00133245 0.00066622\n",
      " 0.00066622 0.00066622 0.00066622 0.00133245 0.00133245 0.00133245\n",
      " 0.00066622 0.00066622 0.00133245 0.00133245 0.00066622 0.00066622\n",
      " 0.00066622 0.00066622 0.00133245 0.00133245 0.00066622 0.00066622\n",
      " 0.00066622 0.00066622 0.00133245 0.00066622 0.00066622 0.00066622\n",
      " 0.00066622 0.00066622 0.00133245 0.00066622 0.00066622 0.00066622\n",
      " 0.00133245 0.00066622 0.00133245 0.00066622 0.00133245 0.00066622\n",
      " 0.00133245 0.00066622 0.00066622 0.00066622 0.00066622 0.00133245\n",
      " 0.00066622 0.00133245 0.00066622 0.00133245 0.00133245 0.00133245\n",
      " 0.00066622 0.00133245 0.00133245 0.00066622 0.00066622 0.00133245\n",
      " 0.00066622 0.00066622 0.00133245 0.00066622 0.00133245 0.00133245\n",
      " 0.00066622 0.00066622 0.00133245 0.00133245 0.00133245 0.00133245\n",
      " 0.00066622 0.00133245 0.00066622 0.00133245 0.00066622 0.00066622\n",
      " 0.00066622 0.00133245 0.00133245 0.00066622 0.00066622 0.00066622\n",
      " 0.00133245 0.00133245 0.00133245 0.00133245 0.00133245 0.00133245\n",
      " 0.00066622 0.00133245 0.00133245 0.00133245 0.00066622 0.00133245\n",
      " 0.00066622 0.00133245 0.00133245 0.00066622 0.00133245 0.00066622\n",
      " 0.00133245 0.00133245 0.00133245 0.00066622 0.00133245 0.00066622\n",
      " 0.00133245 0.00133245 0.00066622 0.00066622 0.00133245 0.00133245\n",
      " 0.00066622 0.00066622 0.00066622 0.00133245 0.00066622 0.00133245\n",
      " 0.00066622 0.00133245 0.00133245 0.00133245 0.00066622 0.00133245\n",
      " 0.00066622 0.00066622 0.00133245 0.00066622 0.00133245 0.00066622\n",
      " 0.00133245 0.00066622 0.00133245 0.00133245 0.00066622 0.00066622\n",
      " 0.00066622 0.00133245 0.00066622 0.00133245 0.00066622 0.00066622\n",
      " 0.00066622 0.00133245 0.00133245 0.00066622 0.00133245 0.00066622\n",
      " 0.00066622 0.00133245 0.00133245 0.00066622 0.00066622 0.00066622\n",
      " 0.00066622 0.00133245 0.00133245 0.00066622 0.00133245 0.00133245\n",
      " 0.00066622 0.00066622 0.00133245 0.00133245 0.00066622 0.00133245\n",
      " 0.00133245 0.00133245 0.00133245 0.00066622 0.00133245 0.00133245\n",
      " 0.00133245 0.00133245 0.00066622 0.00133245 0.00066622 0.00133245\n",
      " 0.00133245 0.00066622 0.00066622 0.00066622 0.00133245 0.00133245\n",
      " 0.00066622 0.00133245 0.00133245 0.00133245 0.00133245 0.00066622\n",
      " 0.00066622 0.00133245 0.00066622 0.00133245 0.00066622 0.00066622\n",
      " 0.00066622 0.00133245 0.00133245 0.00133245 0.00133245 0.00066622\n",
      " 0.00133245 0.00066622 0.00066622 0.00133245 0.00133245 0.00066622\n",
      " 0.00133245 0.00066622 0.00066622 0.00133245 0.00066622 0.00133245\n",
      " 0.00066622 0.00133245 0.00066622 0.00066622 0.00066622 0.00066622\n",
      " 0.00133245 0.00133245 0.00066622 0.00133245 0.00133245 0.00133245\n",
      " 0.00133245 0.00133245 0.00066622 0.00066622 0.00133245 0.00066622\n",
      " 0.00066622 0.00066622 0.00133245 0.00133245 0.00066622 0.00133245\n",
      " 0.00066622 0.00133245 0.00133245 0.00133245 0.00133245 0.00066622\n",
      " 0.00066622 0.00066622 0.00066622 0.00133245 0.00066622 0.00133245\n",
      " 0.00066622 0.00066622 0.00133245 0.00066622 0.00066622 0.00133245\n",
      " 0.00133245 0.00133245 0.00133245 0.00133245 0.00066622 0.00133245\n",
      " 0.00066622 0.00066622 0.00133245 0.00133245 0.00066622 0.00133245\n",
      " 0.00066622 0.00133245 0.00133245 0.00133245 0.00133245 0.00066622\n",
      " 0.00066622 0.00066622 0.00133245 0.00066622 0.00133245 0.00066622\n",
      " 0.00066622 0.00133245 0.00133245 0.00066622 0.00133245 0.00066622\n",
      " 0.00133245 0.00066622 0.00066622 0.00133245 0.00066622 0.00133245\n",
      " 0.00066622 0.00066622 0.00066622 0.00066622 0.00066622 0.00133245\n",
      " 0.00133245 0.00066622 0.00133245 0.00133245 0.00133245 0.00066622\n",
      " 0.00066622 0.00066622 0.00066622 0.00066622]\n"
     ]
    }
   ],
   "source": [
    "classifier = DecisionTreeClassifier(max_depth=1, random_state=1)\n",
    "classifier.fit(X=train_set, y=train_labels)\n",
    "alphas = []\n",
    "classifiers = []\n",
    "for iteration in range(number_of_iterations):\n",
    "    model = train_model(classifier, weights)\n",
    "    weights = set_new_weights(model)\n",
    "    classifiers.append(model)\n",
    "print(weights)\n",
    "\n",
    "validate_x, validate_label = generate_data(1, dimension, labels)"
   ]
  },
  {
   "cell_type": "markdown",
   "metadata": {},
   "source": [
    "Set the validation data set:"
   ]
  },
  {
   "cell_type": "code",
   "execution_count": 70,
   "metadata": {},
   "outputs": [],
   "source": [
    "validate_x, validate_label = generate_data(1, dimension, labels)"
   ]
  },
  {
   "cell_type": "markdown",
   "metadata": {},
   "source": [
    "Fill the prediction code:"
   ]
  },
  {
   "cell_type": "code",
   "execution_count": 71,
   "metadata": {},
   "outputs": [],
   "source": [
    "def get_prediction(x):\n",
    "    predictions = []\n",
    "    for i in range(len(classifiers)):\n",
    "        predicted = classifiers[i].predict(x)\n",
    "        predictions.append(predicted)\n",
    "    counter = [0.0, 0.0]\n",
    "    \n",
    "    for i, prediction in enumerate(predictions):\n",
    "        if prediction == 0:\n",
    "            counter[0] =+ weights[i]\n",
    "        else:\n",
    "            counter[1] =+ weights[i]\n",
    "    return int(counter[0]<counter[1])\n"
   ]
  },
  {
   "cell_type": "markdown",
   "metadata": {},
   "source": [
    "Test it:"
   ]
  },
  {
   "cell_type": "code",
   "execution_count": 72,
   "metadata": {},
   "outputs": [
    {
     "name": "stdout",
     "output_type": "stream",
     "text": [
      "0\n"
     ]
    }
   ],
   "source": [
    "prediction = get_prediction(validate_x)\n",
    "\n",
    "print(prediction)"
   ]
  },
  {
   "cell_type": "code",
   "execution_count": null,
   "metadata": {},
   "outputs": [],
   "source": []
  }
 ],
 "metadata": {
  "kernelspec": {
   "display_name": "Python 3",
   "language": "python",
   "name": "python3"
  },
  "language_info": {
   "codemirror_mode": {
    "name": "ipython",
    "version": 3
   },
   "file_extension": ".py",
   "mimetype": "text/x-python",
   "name": "python",
   "nbconvert_exporter": "python",
   "pygments_lexer": "ipython3",
   "version": "3.6.9"
  }
 },
 "nbformat": 4,
 "nbformat_minor": 4
}
